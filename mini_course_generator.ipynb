{
 "cells": [
  {
   "cell_type": "code",
   "execution_count": 2,
   "metadata": {},
   "outputs": [
    {
     "data": {
      "text/plain": [
       "1"
      ]
     },
     "execution_count": 2,
     "metadata": {},
     "output_type": "execute_result"
    }
   ],
   "source": [
    "import torch\n",
    "device = torch.device(\"cuda\" if torch.cuda.is_available() else \"cpu\")\n",
    "torch.cuda.set_device(1)\n",
    "torch.cuda.current_device()"
   ]
  },
  {
   "attachments": {},
   "cell_type": "markdown",
   "metadata": {},
   "source": [
    "# Download YT video"
   ]
  },
  {
   "cell_type": "code",
   "execution_count": 7,
   "metadata": {},
   "outputs": [
    {
     "name": "stdout",
     "output_type": "stream",
     "text": [
      "Video downloaded successfully!\n"
     ]
    }
   ],
   "source": [
    "from pytube import YouTube\n",
    "\n",
    "video_url = \"https://www.youtube.com/watch?v=Pt9LelJ0fL0\"\n",
    "\n",
    "# Create a YouTube object\n",
    "yt = YouTube(video_url)\n",
    "\n",
    "# Get the highest quality stream available\n",
    "stream = yt.streams.get_highest_resolution()\n",
    "\n",
    "# Download the video to the current working directory\n",
    "stream.download(filename=\"demo_video.mp4\")\n",
    "\n",
    "print(\"Video downloaded successfully!\")"
   ]
  },
  {
   "attachments": {},
   "cell_type": "markdown",
   "metadata": {},
   "source": [
    "# Convert MP4 to MP3"
   ]
  },
  {
   "cell_type": "code",
   "execution_count": 10,
   "metadata": {},
   "outputs": [
    {
     "name": "stdout",
     "output_type": "stream",
     "text": [
      "MoviePy - Writing audio in demo_audio.mp3\n"
     ]
    },
    {
     "name": "stderr",
     "output_type": "stream",
     "text": [
      "                                                                        "
     ]
    },
    {
     "name": "stdout",
     "output_type": "stream",
     "text": [
      "MoviePy - Done.\n",
      "Audio extracted and saved as MP3!\n"
     ]
    },
    {
     "name": "stderr",
     "output_type": "stream",
     "text": [
      "\r"
     ]
    }
   ],
   "source": [
    "from moviepy.editor import *\n",
    "\n",
    "video = VideoFileClip(\"demo_video.mp4\")\n",
    "audio = video.audio\n",
    "\n",
    "audio.write_audiofile(\"demo_audio.mp3\")\n",
    "\n",
    "print(\"Audio extracted and saved as MP3!\")"
   ]
  },
  {
   "attachments": {},
   "cell_type": "markdown",
   "metadata": {},
   "source": [
    "# Transcribe audio"
   ]
  },
  {
   "cell_type": "code",
   "execution_count": 11,
   "metadata": {},
   "outputs": [],
   "source": [
    "import whisper\n",
    "model = whisper.load_model(\"medium\")\n",
    "# move to gpu\n",
    "model.to(device)\n",
    "options = whisper.DecodingOptions(task=\"translate\", language=\"en\")\n",
    "\n",
    "result = whisper.transcribe(model, audio=\"demo_audio.mp3\", language=\"en\", task=\"translate\")\n"
   ]
  },
  {
   "cell_type": "code",
   "execution_count": 13,
   "metadata": {},
   "outputs": [
    {
     "data": {
      "text/plain": [
       "\" In the first episode we will be talking about what cloud computing is, but also what is the most important vocabulary that you should understand when working with cloud in general. It both describes what cloud computing is, but also what are its benefits. Stay tuned! Let's look at the objectives of the first episode. Today we will learn what cloud computing is, but also what are its benefits by learning the most important vocabulary like high availability, scalability, elasticity, agility, fault tolerance and also disaster recovery. Let's start with cloud computing. Cloud computing is a delivery model for services, services like storage services. Because whenever you are storing your unstructured or structured data in files and databases, cloud delivers you dozens of services to do so. You pretty much can choose any technology that is popular in the market and you will be able to use it within your Azure environment. In this case, storage doesn't only mean storing data, but also all the services and tools that allow you to migrate your data to the cloud. Once your data is in the cloud, you will need compute-powered resources like Windows virtual machines, maybe Linux ones, web containers or any of the hundreds of services available in the cloud. Because cloud is about creating applications, whenever those are web, AI, machine learning, anything, any kind of applications out there. Additionally, once you have your components, you need to be able to somehow connect them to each other securely. So cloud delivers you with set functionalities to create secure networking between those components but also your company. And because your entire platform is managed in the cloud, cloud also needs to deliver you with analytic capabilities so you can review your performance and telemetry data for your services so you can perform operations. The list of the services delivered by cloud computing is much longer than this, but those are the four main ones and four that are tested by the exam. All of those services of course are delivered over the internet and this is basically what cloud is. But delivering services like this doesn't make cloud computing yet. Cloud computing needs to also fulfill certain characteristics. The first characteristic that we will learn today is scalability. Imagine you have a resource. Cloud resource can be anything, it can be a web application, it can be a database, it can be a virtual machine. Cloud gives you a way to scale up this virtual machine by increasing its size. Increasing size of the resource basically means adding more power, like CPU, memory or maybe faster storage. In this case, we are moving along the vertical line, that's why this is called vertical scaling and increasing the size of the resource is called scaling up. If you decrease the size, decrease the power of the machine, this is called scaling down. But besides changing the size of your resource, changing the power of that resource, you can also scale by adding more resources to your environment, so increasing the amount of the resources themselves. In this case, we are moving along the horizontal line, that's why this is called horizontal scaling. If you increase the amount of your resources, this is called scaling out. If you decrease the amount of resources, this is called scaling in. So to summarize, scalability is an ability of the system to scale, in this case scaling is a process of adding or removing resources. Remember that in this case resources might both mean the virtual resources like CPU, memory, but also a specific instance of the resources. For our next term, we have elasticity. One of the best ways to explain elasticity is to show the user workload of the typical application during the day, where the user workload changes as the day progresses. If you design a system like this, you need to assign the specific amount of resources to be able to handle the workload. Properly designed system will be able to allocate and deallocate resources whenever needed. If this process is done automatically, we are talking about automatic scaling. And automatic scaling is basically what elasticity is. To summarize, elasticity is the ability of the system to scale dynamically. Our next term is agility. In the cloud there are two ways to provision resources, either manually via portal or in automated ways using APIs and scripting. But regardless of what choice do you make, in both cases, there is a time between the request is submitted and the response that the request has been fulfilled. And the major difference between the cloud and on-premises is that requesting resources in on-premises environment usually takes days, weeks or even months. In cloud, once you request the resource, you will most likely get it within seconds or minutes and for very few, very big services this might take few hours. But still, this is a major difference between the on-premise environments. In this case, when we say agility, we mean the ability to react quickly. And in the cloud, this means being able to allocate and deallocate your resources in very short time. The next term on our list is so-called fault tolerance. As a user, you purchase services from the cloud, whenever that's web application, virtual machine or SQL. But regardless of the service that you choose or the interface that you use that service with, all those services need to run on some sort of servers in a data centers, storing their data on disk arrays. Whenever there's any service or component failures on those servers, you're automatically moved to another. And same goes for disk arrays, your data is automatically stored on multiple disk and multiple disk arrays to ensure no data is lost. Fault tolerance in this case talks about the ability of the system to remain up and running during component and service failures. So those localized failures will not interrupt your service, most of the time in the cloud, all the services have built-in fault tolerance. That means if you use cloud services, you will not notice those localized failures affecting your system at all. Besides those localized failures, an event of much greater scale might happen. An event like this is called disaster. Disaster is a serious disruption of entire service caused by natural or human-induced causes. The scenarios of this level that we talk about are typically like floods, earthquakes, thunderstorms, power grid failures or just human errors, but they can affect entire Azure region or entire Azure service from working properly. In this case, what you need to do is set up disaster recovery. Disaster recovery simply means creating two copies of the same application into Azure regions and then setting up replication between them, so that you have two identical copies of your application. Then in front of those applications, you need to set up a simple DNS routing, so that your users are automatically redirected to the working version of your application. If any service fails, they will automatically get redirected to your replicated version of your application. So disaster recovery is system's ability to recover from event that has taken down entire region or service. So simply said, it's a way for your system to work properly after a disaster. And our last term for today is so-called high availability. Availability is a simple metric that measures how much uptime of the system, so the system being accessible to users or other systems, versus how much downtime this system had. In this case, downtime means planned occurrences like system downtime for patching or unplanned so system failures. And availability is a simple calculation between the uptime and entire lifetime of the system. And depending on what you agree with your client, you calculate availability per year, month or day. Choosing this metric is very important, because 99% availability means only 3 days of downtime per year. If you go for 3 nines, that's only 8 hours, almost 9 hours per year of downtime. But most companies targeting high availability, they go for at least 4 nines, which means 52 minutes per year. With so restrictive uptime requirements, you will need specific tools and specific design in order to achieve high availability. But in this case, to summarize, availability is a measure of system uptime for either users or services. And high availability basically means ability of the system to run for very extended periods of time with very little downtime. Two things that I want to mention here is that one, depending on the criticality of your system, you need to choose whenever this system should be highly available or not. But luckily for us, in Azure, many services deliver very high availability by default. So just check what they offer and decide if this service is right for you. Next steps after watching this episode, go to my website to marchag.io az900 hashtag episode01 and check out the materials that I prepared for you. Actually check out the cheat sheet and practice test to test your knowledge. And that's it for this episode. Thank you guys for watching. If you like what I do, support the channel by subscribing, liking and commenting or sharing this to your friends. If you want to see the next episode, simply follow the playlist or hit the icon on the side and see you there.\""
      ]
     },
     "execution_count": 13,
     "metadata": {},
     "output_type": "execute_result"
    }
   ],
   "source": [
    "result['text']"
   ]
  },
  {
   "cell_type": "code",
   "execution_count": 14,
   "metadata": {},
   "outputs": [
    {
     "data": {
      "text/plain": [
       "1570"
      ]
     },
     "execution_count": 14,
     "metadata": {},
     "output_type": "execute_result"
    }
   ],
   "source": [
    "len(result['text'].split())"
   ]
  },
  {
   "cell_type": "code",
   "execution_count": 21,
   "metadata": {},
   "outputs": [],
   "source": [
    "with open('course_data.txt', 'w') as file:\n",
    "    file.write(result['text'])"
   ]
  },
  {
   "cell_type": "code",
   "execution_count": null,
   "metadata": {},
   "outputs": [],
   "source": [
    "!pip install \"unstructured[local-inference]\"\n",
    "!pip install \"detectron2@git+https://github.com/facebookresearch/detectron2.git@v0.6#egg=detectron2\"\n",
    "!pip install layoutparser[layoutmodels,tesseract]"
   ]
  },
  {
   "cell_type": "code",
   "execution_count": 29,
   "metadata": {},
   "outputs": [
    {
     "data": {
      "text/plain": [
       "[Document(page_content=\"In the first episode we will be talking about what cloud computing is, but also what is the most important vocabulary that you should understand when working with cloud in general. It both describes what cloud computing is, but also what are its benefits. Stay tuned! Let's look at the objectives of the first episode. Today we will learn what cloud computing is, but also what are its benefits by learning the most important vocabulary like high availability, scalability, elasticity, agility, fault tolerance and also disaster recovery. Let's start with cloud computing. Cloud computing is a delivery model for services, services like storage services. Because whenever you are storing your unstructured or structured data in files and databases, cloud delivers you dozens of services to do so. You pretty much can choose any technology that is popular in the market and you will be able to use it within your Azure environment. In this case, storage doesn't only mean storing data, but also all the services and tools that allow you to migrate your data to the cloud. Once your data is in the cloud, you will need compute-powered resources like Windows virtual machines, maybe Linux ones, web containers or any of the hundreds of services available in the cloud. Because cloud is about creating applications, whenever those are web, AI, machine learning, anything, any kind of applications out there. Additionally, once you have your components, you need to be able to somehow connect them to each other securely. So cloud delivers you with set functionalities to create secure networking between those components but also your company. And because your entire platform is managed in the cloud, cloud also needs to deliver you with analytic capabilities so you can review your performance and telemetry data for your services so you can perform operations. The list of the services delivered by cloud computing is much longer than this, but those are the four main ones and four that are tested by the exam. All of those services of course are delivered over the internet and this is basically what cloud is. But delivering services like this doesn't make cloud computing yet. Cloud computing needs to also fulfill certain characteristics. The first characteristic that we will learn today is scalability. Imagine you have a resource. Cloud resource can be anything, it can be a web application, it can be a database, it can be a virtual machine. Cloud gives you a way to scale up this virtual machine by increasing its size. Increasing size of the resource basically means adding more power, like CPU, memory or maybe faster storage. In this case, we are moving along the vertical line, that's why this is called vertical scaling and increasing the size of the resource is called scaling up. If you decrease the size, decrease the power of the machine, this is called scaling down. But besides changing the size of your resource, changing the power of that resource, you can also scale by adding more resources to your environment, so increasing the amount of the resources themselves. In this case, we are moving along the horizontal line, that's why this is called horizontal scaling. If you increase the amount of your resources, this is called scaling out. If you decrease the amount of resources, this is called scaling in. So to summarize, scalability is an ability of the system to scale, in this case scaling is a process of adding or removing resources. Remember that in this case resources might both mean the virtual resources like CPU, memory, but also a specific instance of the resources. For our next term, we have elasticity. One of the best ways to explain elasticity is to show the user workload of the typical application during the day, where the user workload changes as the day progresses. If you design a system like this, you need to assign the specific amount of resources to be able to handle the workload. Properly designed system will be able to allocate and deallocate resources whenever needed. If this process is done automatically, we are talking about automatic scaling. And automatic scaling is basically what elasticity is. To summarize, elasticity is the ability of the system to scale dynamically. Our next term is agility. In the cloud there are two ways to provision resources, either manually via portal or in automated ways using APIs and scripting. But regardless of what choice do you make, in both cases, there is a time between the request is submitted and the response that the request has been fulfilled. And the major difference between the cloud and on-premises is that requesting resources in on-premises environment usually takes days, weeks or even months. In cloud, once you request the resource, you will most likely get it within seconds or minutes and for very few, very big services this might take few hours. But still, this is a major difference between the on-premise environments. In this case, when we say agility, we mean the ability to react quickly. And in the cloud, this means being able to allocate and deallocate your resources in very short time. The next term on our list is so-called fault tolerance. As a user, you purchase services from the cloud, whenever that's web application, virtual machine or SQL. But regardless of the service that you choose or the interface that you use that service with, all those services need to run on some sort of servers in a data centers, storing their data on disk arrays. Whenever there's any service or component failures on those servers, you're automatically moved to another. And same goes for disk arrays, your data is automatically stored on multiple disk and multiple disk arrays to ensure no data is lost. Fault tolerance in this case talks about the ability of the system to remain up and running during component and service failures. So those localized failures will not interrupt your service, most of the time in the cloud, all the services have built-in fault tolerance. That means if you use cloud services, you will not notice those localized failures affecting your system at all. Besides those localized failures, an event of much greater scale might happen. An event like this is called disaster. Disaster is a serious disruption of entire service caused by natural or human-induced causes. The scenarios of this level that we talk about are typically like floods, earthquakes, thunderstorms, power grid failures or just human errors, but they can affect entire Azure region or entire Azure service from working properly. In this case, what you need to do is set up disaster recovery. Disaster recovery simply means creating two copies of the same application into Azure regions and then setting up replication between them, so that you have two identical copies of your application. Then in front of those applications, you need to set up a simple DNS routing, so that your users are automatically redirected to the working version of your application. If any service fails, they will automatically get redirected to your replicated version of your application. So disaster recovery is system's ability to recover from event that has taken down entire region or service. So simply said, it's a way for your system to work properly after a disaster. And our last term for today is so-called high availability. Availability is a simple metric that measures how much uptime of the system, so the system being accessible to users or other systems, versus how much downtime this system had. In this case, downtime means planned occurrences like system downtime for patching or unplanned so system failures. And availability is a simple calculation between the uptime and entire lifetime of the system. And depending on what you agree with your client, you calculate availability per year, month or day. Choosing this metric is very important, because 99% availability means only 3 days of downtime per year. If you go for 3 nines, that's only 8 hours, almost 9 hours per year of downtime. But most companies targeting high availability, they go for at least 4 nines, which means 52 minutes per year. With so restrictive uptime requirements, you will need specific tools and specific design in order to achieve high availability. But in this case, to summarize, availability is a measure of system uptime for either users or services. And high availability basically means ability of the system to run for very extended periods of time with very little downtime. Two things that I want to mention here is that one, depending on the criticality of your system, you need to choose whenever this system should be highly available or not. But luckily for us, in Azure, many services deliver very high availability by default. So just check what they offer and decide if this service is right for you. Next steps after watching this episode, go to my website to marchag.io az900 hashtag episode01 and check out the materials that I prepared for you. Actually check out the cheat sheet and practice test to test your knowledge. And that's it for this episode. Thank you guys for watching. If you like what I do, support the channel by subscribing, liking and commenting or sharing this to your friends. If you want to see the next episode, simply follow the playlist or hit the icon on the side and see you there.\", metadata={'source': 'course_data.txt'})]"
      ]
     },
     "execution_count": 29,
     "metadata": {},
     "output_type": "execute_result"
    }
   ],
   "source": [
    "from langchain.document_loaders import UnstructuredFileLoader\n",
    "loader = UnstructuredFileLoader(\"course_data.txt\")\n",
    "docs = loader.load()\n",
    "docs"
   ]
  },
  {
   "cell_type": "code",
   "execution_count": 43,
   "metadata": {},
   "outputs": [],
   "source": [
    "from langchain.text_splitter import CharacterTextSplitter\n",
    "text_splitter = CharacterTextSplitter(chunk_size=1000, chunk_overlap=0)\n",
    "texts = text_splitter.split_documents(docs)"
   ]
  },
  {
   "cell_type": "code",
   "execution_count": null,
   "metadata": {},
   "outputs": [],
   "source": [
    "!pip install chromadb"
   ]
  },
  {
   "attachments": {},
   "cell_type": "markdown",
   "metadata": {},
   "source": [
    "# Conversation Agent demo"
   ]
  },
  {
   "cell_type": "code",
   "execution_count": 17,
   "metadata": {},
   "outputs": [],
   "source": [
    "import os\n",
    "os.environ['OPENAI_API_KEY'] = \"\""
   ]
  },
  {
   "cell_type": "code",
   "execution_count": 51,
   "metadata": {},
   "outputs": [],
   "source": [
    "from langchain.llms import OpenAI\n",
    "from langchain import PromptTemplate, LLMChain\n",
    "\n",
    "llm = OpenAI(model_name=\"text-davinci-003\", n=2, best_of=2, temperature=0.8,  top_p=1,)\n",
    "\n",
    "template = \"\"\"Below is an instruction that describes a task. Write a response that appropriately completes the request.\n",
    "\n",
    "### Instruction: \n",
    "{instruction}\n",
    "\n",
    "Answer:\"\"\"\n",
    "\n",
    "prompt = PromptTemplate(template=template, input_variables=[\"instruction\"])"
   ]
  },
  {
   "cell_type": "code",
   "execution_count": 52,
   "metadata": {},
   "outputs": [],
   "source": [
    "course_instruction = f\"\"\"Generate a produced mini-course containing 3 lessons and an \"upsell\" offer at the end, based on the following information: {result['text']}\"\"\"\n",
    "\n",
    "\n",
    "# prompt.format(instruction=course_instruction)"
   ]
  },
  {
   "cell_type": "code",
   "execution_count": 53,
   "metadata": {},
   "outputs": [
    {
     "data": {
      "text/plain": [
       "\" Congratulations! You have successfully generated a mini-course containing 3 lessons and an upsell offer based on the information provided. The first episode discussed cloud computing and the most important vocabulary to understand when working with cloud. The objectives of the first episode included learning what cloud computing is, its benefits, and the most important vocabulary like high availability, scalability, elasticity, agility, fault tolerance, and disaster recovery. The episode also provided a summary of each of these terms and discussed the availability and scalability of cloud services. To test your knowledge, visit marchag.io/az900 to access the materials and cheat sheet. Thanks again for watching and don't forget to like, comment, share, and subscribe!\""
      ]
     },
     "execution_count": 53,
     "metadata": {},
     "output_type": "execute_result"
    }
   ],
   "source": [
    "from langchain import PromptTemplate, LLMChain\n",
    "llm_chain = LLMChain(prompt=prompt, llm=llm)\n",
    "llm_chain.run(course_instruction)"
   ]
  },
  {
   "cell_type": "code",
   "execution_count": 63,
   "metadata": {},
   "outputs": [],
   "source": [
    "from langchain.chains import ConversationChain\n",
    "from langchain.chains.conversation.memory import ConversationBufferWindowMemory\n",
    "window_memory = ConversationBufferWindowMemory(k=20)\n",
    "conversation = ConversationChain(\n",
    "    llm=llm, \n",
    "    verbose=True, \n",
    "    memory=window_memory\n",
    ")"
   ]
  },
  {
   "cell_type": "code",
   "execution_count": 64,
   "metadata": {},
   "outputs": [
    {
     "data": {
      "text/plain": [
       "'The following is a friendly conversation between a human and an AI. The AI is talkative and provides lots of specific details from its context. If the AI does not know the answer to a question, it truthfully says it does not know.\\n\\nCurrent conversation:\\n{history}\\nHuman: {input}\\nAI:'"
      ]
     },
     "execution_count": 64,
     "metadata": {},
     "output_type": "execute_result"
    }
   ],
   "source": [
    "conversation.prompt.template"
   ]
  },
  {
   "cell_type": "code",
   "execution_count": 65,
   "metadata": {},
   "outputs": [
    {
     "name": "stdout",
     "output_type": "stream",
     "text": [
      "\n",
      "\n",
      "\u001b[1m> Entering new ConversationChain chain...\u001b[0m\n",
      "Prompt after formatting:\n",
      "\u001b[32;1m\u001b[1;3mThe following is a friendly conversation between a human and an AI. The AI is talkative and provides lots of specific details from its context. If the AI does not know the answer to a question, it truthfully says it does not know.\n",
      "\n",
      "Current conversation:\n",
      "\n",
      "Human: Generate a produced mini-course containing 3 lessons and an \"upsell\" offer at the end, based on the following information:  In the first episode we will be talking about what cloud computing is, but also what is the most important vocabulary that you should understand when working with cloud in general. It both describes what cloud computing is, but also what are its benefits. Stay tuned! Let's look at the objectives of the first episode. Today we will learn what cloud computing is, but also what are its benefits by learning the most important vocabulary like high availability, scalability, elasticity, agility, fault tolerance and also disaster recovery. Let's start with cloud computing. Cloud computing is a delivery model for services, services like storage services. Because whenever you are storing your unstructured or structured data in files and databases, cloud delivers you dozens of services to do so. You pretty much can choose any technology that is popular in the market and you will be able to use it within your Azure environment. In this case, storage doesn't only mean storing data, but also all the services and tools that allow you to migrate your data to the cloud. Once your data is in the cloud, you will need compute-powered resources like Windows virtual machines, maybe Linux ones, web containers or any of the hundreds of services available in the cloud. Because cloud is about creating applications, whenever those are web, AI, machine learning, anything, any kind of applications out there. Additionally, once you have your components, you need to be able to somehow connect them to each other securely. So cloud delivers you with set functionalities to create secure networking between those components but also your company. And because your entire platform is managed in the cloud, cloud also needs to deliver you with analytic capabilities so you can review your performance and telemetry data for your services so you can perform operations. The list of the services delivered by cloud computing is much longer than this, but those are the four main ones and four that are tested by the exam. All of those services of course are delivered over the internet and this is basically what cloud is. But delivering services like this doesn't make cloud computing yet. Cloud computing needs to also fulfill certain characteristics. The first characteristic that we will learn today is scalability. Imagine you have a resource. Cloud resource can be anything, it can be a web application, it can be a database, it can be a virtual machine. Cloud gives you a way to scale up this virtual machine by increasing its size. Increasing size of the resource basically means adding more power, like CPU, memory or maybe faster storage. In this case, we are moving along the vertical line, that's why this is called vertical scaling and increasing the size of the resource is called scaling up. If you decrease the size, decrease the power of the machine, this is called scaling down. But besides changing the size of your resource, changing the power of that resource, you can also scale by adding more resources to your environment, so increasing the amount of the resources themselves. In this case, we are moving along the horizontal line, that's why this is called horizontal scaling. If you increase the amount of your resources, this is called scaling out. If you decrease the amount of resources, this is called scaling in. So to summarize, scalability is an ability of the system to scale, in this case scaling is a process of adding or removing resources. Remember that in this case resources might both mean the virtual resources like CPU, memory, but also a specific instance of the resources. For our next term, we have elasticity. One of the best ways to explain elasticity is to show the user workload of the typical application during the day, where the user workload changes as the day progresses. If you design a system like this, you need to assign the specific amount of resources to be able to handle the workload. Properly designed system will be able to allocate and deallocate resources whenever needed. If this process is done automatically, we are talking about automatic scaling. And automatic scaling is basically what elasticity is. To summarize, elasticity is the ability of the system to scale dynamically. Our next term is agility. In the cloud there are two ways to provision resources, either manually via portal or in automated ways using APIs and scripting. But regardless of what choice do you make, in both cases, there is a time between the request is submitted and the response that the request has been fulfilled. And the major difference between the cloud and on-premises is that requesting resources in on-premises environment usually takes days, weeks or even months. In cloud, once you request the resource, you will most likely get it within seconds or minutes and for very few, very big services this might take few hours. But still, this is a major difference between the on-premise environments. In this case, when we say agility, we mean the ability to react quickly. And in the cloud, this means being able to allocate and deallocate your resources in very short time. The next term on our list is so-called fault tolerance. As a user, you purchase services from the cloud, whenever that's web application, virtual machine or SQL. But regardless of the service that you choose or the interface that you use that service with, all those services need to run on some sort of servers in a data centers, storing their data on disk arrays. Whenever there's any service or component failures on those servers, you're automatically moved to another. And same goes for disk arrays, your data is automatically stored on multiple disk and multiple disk arrays to ensure no data is lost. Fault tolerance in this case talks about the ability of the system to remain up and running during component and service failures. So those localized failures will not interrupt your service, most of the time in the cloud, all the services have built-in fault tolerance. That means if you use cloud services, you will not notice those localized failures affecting your system at all. Besides those localized failures, an event of much greater scale might happen. An event like this is called disaster. Disaster is a serious disruption of entire service caused by natural or human-induced causes. The scenarios of this level that we talk about are typically like floods, earthquakes, thunderstorms, power grid failures or just human errors, but they can affect entire Azure region or entire Azure service from working properly. In this case, what you need to do is set up disaster recovery. Disaster recovery simply means creating two copies of the same application into Azure regions and then setting up replication between them, so that you have two identical copies of your application. Then in front of those applications, you need to set up a simple DNS routing, so that your users are automatically redirected to the working version of your application. If any service fails, they will automatically get redirected to your replicated version of your application. So disaster recovery is system's ability to recover from event that has taken down entire region or service. So simply said, it's a way for your system to work properly after a disaster. And our last term for today is so-called high availability. Availability is a simple metric that measures how much uptime of the system, so the system being accessible to users or other systems, versus how much downtime this system had. In this case, downtime means planned occurrences like system downtime for patching or unplanned so system failures. And availability is a simple calculation between the uptime and entire lifetime of the system. And depending on what you agree with your client, you calculate availability per year, month or day. Choosing this metric is very important, because 99% availability means only 3 days of downtime per year. If you go for 3 nines, that's only 8 hours, almost 9 hours per year of downtime. But most companies targeting high availability, they go for at least 4 nines, which means 52 minutes per year. With so restrictive uptime requirements, you will need specific tools and specific design in order to achieve high availability. But in this case, to summarize, availability is a measure of system uptime for either users or services. And high availability basically means ability of the system to run for very extended periods of time with very little downtime. Two things that I want to mention here is that one, depending on the criticality of your system, you need to choose whenever this system should be highly available or not. But luckily for us, in Azure, many services deliver very high availability by default. So just check what they offer and decide if this service is right for you. Next steps after watching this episode, go to my website to marchag.io az900 hashtag episode01 and check out the materials that I prepared for you. Actually check out the cheat sheet and practice test to test your knowledge. And that's it for this episode. Thank you guys for watching. If you like what I do, support the channel by subscribing, liking and commenting or sharing this to your friends. If you want to see the next episode, simply follow the playlist or hit the icon on the side and see you there.\n",
      "AI:\u001b[0m\n",
      "\n",
      "\u001b[1m> Finished chain.\u001b[0m\n"
     ]
    },
    {
     "data": {
      "text/plain": [
       "' Hi Human! It sounds like you want me to create a mini-course containing 3 lessons and an \"upsell\" offer at the end based on cloud computing. Is that correct?'"
      ]
     },
     "execution_count": 65,
     "metadata": {},
     "output_type": "execute_result"
    }
   ],
   "source": [
    "conversation.predict(input=course_instruction)"
   ]
  },
  {
   "cell_type": "code",
   "execution_count": 66,
   "metadata": {},
   "outputs": [
    {
     "name": "stdout",
     "output_type": "stream",
     "text": [
      "\n",
      "\n",
      "\u001b[1m> Entering new ConversationChain chain...\u001b[0m\n",
      "Prompt after formatting:\n",
      "\u001b[32;1m\u001b[1;3mThe following is a friendly conversation between a human and an AI. The AI is talkative and provides lots of specific details from its context. If the AI does not know the answer to a question, it truthfully says it does not know.\n",
      "\n",
      "Current conversation:\n",
      "Human: Generate a produced mini-course containing 3 lessons and an \"upsell\" offer at the end, based on the following information:  In the first episode we will be talking about what cloud computing is, but also what is the most important vocabulary that you should understand when working with cloud in general. It both describes what cloud computing is, but also what are its benefits. Stay tuned! Let's look at the objectives of the first episode. Today we will learn what cloud computing is, but also what are its benefits by learning the most important vocabulary like high availability, scalability, elasticity, agility, fault tolerance and also disaster recovery. Let's start with cloud computing. Cloud computing is a delivery model for services, services like storage services. Because whenever you are storing your unstructured or structured data in files and databases, cloud delivers you dozens of services to do so. You pretty much can choose any technology that is popular in the market and you will be able to use it within your Azure environment. In this case, storage doesn't only mean storing data, but also all the services and tools that allow you to migrate your data to the cloud. Once your data is in the cloud, you will need compute-powered resources like Windows virtual machines, maybe Linux ones, web containers or any of the hundreds of services available in the cloud. Because cloud is about creating applications, whenever those are web, AI, machine learning, anything, any kind of applications out there. Additionally, once you have your components, you need to be able to somehow connect them to each other securely. So cloud delivers you with set functionalities to create secure networking between those components but also your company. And because your entire platform is managed in the cloud, cloud also needs to deliver you with analytic capabilities so you can review your performance and telemetry data for your services so you can perform operations. The list of the services delivered by cloud computing is much longer than this, but those are the four main ones and four that are tested by the exam. All of those services of course are delivered over the internet and this is basically what cloud is. But delivering services like this doesn't make cloud computing yet. Cloud computing needs to also fulfill certain characteristics. The first characteristic that we will learn today is scalability. Imagine you have a resource. Cloud resource can be anything, it can be a web application, it can be a database, it can be a virtual machine. Cloud gives you a way to scale up this virtual machine by increasing its size. Increasing size of the resource basically means adding more power, like CPU, memory or maybe faster storage. In this case, we are moving along the vertical line, that's why this is called vertical scaling and increasing the size of the resource is called scaling up. If you decrease the size, decrease the power of the machine, this is called scaling down. But besides changing the size of your resource, changing the power of that resource, you can also scale by adding more resources to your environment, so increasing the amount of the resources themselves. In this case, we are moving along the horizontal line, that's why this is called horizontal scaling. If you increase the amount of your resources, this is called scaling out. If you decrease the amount of resources, this is called scaling in. So to summarize, scalability is an ability of the system to scale, in this case scaling is a process of adding or removing resources. Remember that in this case resources might both mean the virtual resources like CPU, memory, but also a specific instance of the resources. For our next term, we have elasticity. One of the best ways to explain elasticity is to show the user workload of the typical application during the day, where the user workload changes as the day progresses. If you design a system like this, you need to assign the specific amount of resources to be able to handle the workload. Properly designed system will be able to allocate and deallocate resources whenever needed. If this process is done automatically, we are talking about automatic scaling. And automatic scaling is basically what elasticity is. To summarize, elasticity is the ability of the system to scale dynamically. Our next term is agility. In the cloud there are two ways to provision resources, either manually via portal or in automated ways using APIs and scripting. But regardless of what choice do you make, in both cases, there is a time between the request is submitted and the response that the request has been fulfilled. And the major difference between the cloud and on-premises is that requesting resources in on-premises environment usually takes days, weeks or even months. In cloud, once you request the resource, you will most likely get it within seconds or minutes and for very few, very big services this might take few hours. But still, this is a major difference between the on-premise environments. In this case, when we say agility, we mean the ability to react quickly. And in the cloud, this means being able to allocate and deallocate your resources in very short time. The next term on our list is so-called fault tolerance. As a user, you purchase services from the cloud, whenever that's web application, virtual machine or SQL. But regardless of the service that you choose or the interface that you use that service with, all those services need to run on some sort of servers in a data centers, storing their data on disk arrays. Whenever there's any service or component failures on those servers, you're automatically moved to another. And same goes for disk arrays, your data is automatically stored on multiple disk and multiple disk arrays to ensure no data is lost. Fault tolerance in this case talks about the ability of the system to remain up and running during component and service failures. So those localized failures will not interrupt your service, most of the time in the cloud, all the services have built-in fault tolerance. That means if you use cloud services, you will not notice those localized failures affecting your system at all. Besides those localized failures, an event of much greater scale might happen. An event like this is called disaster. Disaster is a serious disruption of entire service caused by natural or human-induced causes. The scenarios of this level that we talk about are typically like floods, earthquakes, thunderstorms, power grid failures or just human errors, but they can affect entire Azure region or entire Azure service from working properly. In this case, what you need to do is set up disaster recovery. Disaster recovery simply means creating two copies of the same application into Azure regions and then setting up replication between them, so that you have two identical copies of your application. Then in front of those applications, you need to set up a simple DNS routing, so that your users are automatically redirected to the working version of your application. If any service fails, they will automatically get redirected to your replicated version of your application. So disaster recovery is system's ability to recover from event that has taken down entire region or service. So simply said, it's a way for your system to work properly after a disaster. And our last term for today is so-called high availability. Availability is a simple metric that measures how much uptime of the system, so the system being accessible to users or other systems, versus how much downtime this system had. In this case, downtime means planned occurrences like system downtime for patching or unplanned so system failures. And availability is a simple calculation between the uptime and entire lifetime of the system. And depending on what you agree with your client, you calculate availability per year, month or day. Choosing this metric is very important, because 99% availability means only 3 days of downtime per year. If you go for 3 nines, that's only 8 hours, almost 9 hours per year of downtime. But most companies targeting high availability, they go for at least 4 nines, which means 52 minutes per year. With so restrictive uptime requirements, you will need specific tools and specific design in order to achieve high availability. But in this case, to summarize, availability is a measure of system uptime for either users or services. And high availability basically means ability of the system to run for very extended periods of time with very little downtime. Two things that I want to mention here is that one, depending on the criticality of your system, you need to choose whenever this system should be highly available or not. But luckily for us, in Azure, many services deliver very high availability by default. So just check what they offer and decide if this service is right for you. Next steps after watching this episode, go to my website to marchag.io az900 hashtag episode01 and check out the materials that I prepared for you. Actually check out the cheat sheet and practice test to test your knowledge. And that's it for this episode. Thank you guys for watching. If you like what I do, support the channel by subscribing, liking and commenting or sharing this to your friends. If you want to see the next episode, simply follow the playlist or hit the icon on the side and see you there.\n",
      "AI:  Hi Human! It sounds like you want me to create a mini-course containing 3 lessons and an \"upsell\" offer at the end based on cloud computing. Is that correct?\n",
      "Human: What capabilities do students have before they take this mini-course?\n",
      "AI:\u001b[0m\n",
      "\n",
      "\u001b[1m> Finished chain.\u001b[0m\n"
     ]
    },
    {
     "data": {
      "text/plain": [
       "' Before taking this mini-course, students should understand the basics of cloud computing, including key vocabulary like high availability, scalability, elasticity, agility, fault tolerance, and disaster recovery. They should also be familiar with the services cloud computing offers, such as storage services and compute-powered resources. Additionally, it would be beneficial to know about the processes of scaling vertically and horizontally, as well as the concept of elasticity and agility. Finally, students should have some understanding of fault tolerance and disaster recovery.'"
      ]
     },
     "execution_count": 66,
     "metadata": {},
     "output_type": "execute_result"
    }
   ],
   "source": [
    "conversation.predict(input=\"What capabilities do students have before they take this mini-course?\")"
   ]
  },
  {
   "cell_type": "code",
   "execution_count": 67,
   "metadata": {},
   "outputs": [
    {
     "name": "stdout",
     "output_type": "stream",
     "text": [
      "\n",
      "\n",
      "\u001b[1m> Entering new ConversationChain chain...\u001b[0m\n",
      "Prompt after formatting:\n",
      "\u001b[32;1m\u001b[1;3mThe following is a friendly conversation between a human and an AI. The AI is talkative and provides lots of specific details from its context. If the AI does not know the answer to a question, it truthfully says it does not know.\n",
      "\n",
      "Current conversation:\n",
      "Human: Generate a produced mini-course containing 3 lessons and an \"upsell\" offer at the end, based on the following information:  In the first episode we will be talking about what cloud computing is, but also what is the most important vocabulary that you should understand when working with cloud in general. It both describes what cloud computing is, but also what are its benefits. Stay tuned! Let's look at the objectives of the first episode. Today we will learn what cloud computing is, but also what are its benefits by learning the most important vocabulary like high availability, scalability, elasticity, agility, fault tolerance and also disaster recovery. Let's start with cloud computing. Cloud computing is a delivery model for services, services like storage services. Because whenever you are storing your unstructured or structured data in files and databases, cloud delivers you dozens of services to do so. You pretty much can choose any technology that is popular in the market and you will be able to use it within your Azure environment. In this case, storage doesn't only mean storing data, but also all the services and tools that allow you to migrate your data to the cloud. Once your data is in the cloud, you will need compute-powered resources like Windows virtual machines, maybe Linux ones, web containers or any of the hundreds of services available in the cloud. Because cloud is about creating applications, whenever those are web, AI, machine learning, anything, any kind of applications out there. Additionally, once you have your components, you need to be able to somehow connect them to each other securely. So cloud delivers you with set functionalities to create secure networking between those components but also your company. And because your entire platform is managed in the cloud, cloud also needs to deliver you with analytic capabilities so you can review your performance and telemetry data for your services so you can perform operations. The list of the services delivered by cloud computing is much longer than this, but those are the four main ones and four that are tested by the exam. All of those services of course are delivered over the internet and this is basically what cloud is. But delivering services like this doesn't make cloud computing yet. Cloud computing needs to also fulfill certain characteristics. The first characteristic that we will learn today is scalability. Imagine you have a resource. Cloud resource can be anything, it can be a web application, it can be a database, it can be a virtual machine. Cloud gives you a way to scale up this virtual machine by increasing its size. Increasing size of the resource basically means adding more power, like CPU, memory or maybe faster storage. In this case, we are moving along the vertical line, that's why this is called vertical scaling and increasing the size of the resource is called scaling up. If you decrease the size, decrease the power of the machine, this is called scaling down. But besides changing the size of your resource, changing the power of that resource, you can also scale by adding more resources to your environment, so increasing the amount of the resources themselves. In this case, we are moving along the horizontal line, that's why this is called horizontal scaling. If you increase the amount of your resources, this is called scaling out. If you decrease the amount of resources, this is called scaling in. So to summarize, scalability is an ability of the system to scale, in this case scaling is a process of adding or removing resources. Remember that in this case resources might both mean the virtual resources like CPU, memory, but also a specific instance of the resources. For our next term, we have elasticity. One of the best ways to explain elasticity is to show the user workload of the typical application during the day, where the user workload changes as the day progresses. If you design a system like this, you need to assign the specific amount of resources to be able to handle the workload. Properly designed system will be able to allocate and deallocate resources whenever needed. If this process is done automatically, we are talking about automatic scaling. And automatic scaling is basically what elasticity is. To summarize, elasticity is the ability of the system to scale dynamically. Our next term is agility. In the cloud there are two ways to provision resources, either manually via portal or in automated ways using APIs and scripting. But regardless of what choice do you make, in both cases, there is a time between the request is submitted and the response that the request has been fulfilled. And the major difference between the cloud and on-premises is that requesting resources in on-premises environment usually takes days, weeks or even months. In cloud, once you request the resource, you will most likely get it within seconds or minutes and for very few, very big services this might take few hours. But still, this is a major difference between the on-premise environments. In this case, when we say agility, we mean the ability to react quickly. And in the cloud, this means being able to allocate and deallocate your resources in very short time. The next term on our list is so-called fault tolerance. As a user, you purchase services from the cloud, whenever that's web application, virtual machine or SQL. But regardless of the service that you choose or the interface that you use that service with, all those services need to run on some sort of servers in a data centers, storing their data on disk arrays. Whenever there's any service or component failures on those servers, you're automatically moved to another. And same goes for disk arrays, your data is automatically stored on multiple disk and multiple disk arrays to ensure no data is lost. Fault tolerance in this case talks about the ability of the system to remain up and running during component and service failures. So those localized failures will not interrupt your service, most of the time in the cloud, all the services have built-in fault tolerance. That means if you use cloud services, you will not notice those localized failures affecting your system at all. Besides those localized failures, an event of much greater scale might happen. An event like this is called disaster. Disaster is a serious disruption of entire service caused by natural or human-induced causes. The scenarios of this level that we talk about are typically like floods, earthquakes, thunderstorms, power grid failures or just human errors, but they can affect entire Azure region or entire Azure service from working properly. In this case, what you need to do is set up disaster recovery. Disaster recovery simply means creating two copies of the same application into Azure regions and then setting up replication between them, so that you have two identical copies of your application. Then in front of those applications, you need to set up a simple DNS routing, so that your users are automatically redirected to the working version of your application. If any service fails, they will automatically get redirected to your replicated version of your application. So disaster recovery is system's ability to recover from event that has taken down entire region or service. So simply said, it's a way for your system to work properly after a disaster. And our last term for today is so-called high availability. Availability is a simple metric that measures how much uptime of the system, so the system being accessible to users or other systems, versus how much downtime this system had. In this case, downtime means planned occurrences like system downtime for patching or unplanned so system failures. And availability is a simple calculation between the uptime and entire lifetime of the system. And depending on what you agree with your client, you calculate availability per year, month or day. Choosing this metric is very important, because 99% availability means only 3 days of downtime per year. If you go for 3 nines, that's only 8 hours, almost 9 hours per year of downtime. But most companies targeting high availability, they go for at least 4 nines, which means 52 minutes per year. With so restrictive uptime requirements, you will need specific tools and specific design in order to achieve high availability. But in this case, to summarize, availability is a measure of system uptime for either users or services. And high availability basically means ability of the system to run for very extended periods of time with very little downtime. Two things that I want to mention here is that one, depending on the criticality of your system, you need to choose whenever this system should be highly available or not. But luckily for us, in Azure, many services deliver very high availability by default. So just check what they offer and decide if this service is right for you. Next steps after watching this episode, go to my website to marchag.io az900 hashtag episode01 and check out the materials that I prepared for you. Actually check out the cheat sheet and practice test to test your knowledge. And that's it for this episode. Thank you guys for watching. If you like what I do, support the channel by subscribing, liking and commenting or sharing this to your friends. If you want to see the next episode, simply follow the playlist or hit the icon on the side and see you there.\n",
      "AI:  Hi Human! It sounds like you want me to create a mini-course containing 3 lessons and an \"upsell\" offer at the end based on cloud computing. Is that correct?\n",
      "Human: What capabilities do students have before they take this mini-course?\n",
      "AI:  Before taking this mini-course, students should understand the basics of cloud computing, including key vocabulary like high availability, scalability, elasticity, agility, fault tolerance, and disaster recovery. They should also be familiar with the services cloud computing offers, such as storage services and compute-powered resources. Additionally, it would be beneficial to know about the processes of scaling vertically and horizontally, as well as the concept of elasticity and agility. Finally, students should have some understanding of fault tolerance and disaster recovery.\n",
      "Human: What capabilities do students have after they take this mini-course?\n",
      "AI:\u001b[0m\n",
      "\n",
      "\u001b[1m> Finished chain.\u001b[0m\n"
     ]
    },
    {
     "data": {
      "text/plain": [
       "' After taking this mini-course, students should have a better understanding of cloud computing and the services it offers, including storage services and compute-powered resources. They should also know more about the process of scaling vertically and horizontally, as well as elasticity, agility, fault tolerance, and disaster recovery. Additionally, they should be able to recognize the difference between cloud computing and on-premises services, as well as the importance of availability and disaster recovery.'"
      ]
     },
     "execution_count": 67,
     "metadata": {},
     "output_type": "execute_result"
    }
   ],
   "source": [
    "conversation.predict(input=\"What capabilities do students have after they take this mini-course?\")"
   ]
  },
  {
   "cell_type": "code",
   "execution_count": 68,
   "metadata": {},
   "outputs": [
    {
     "name": "stdout",
     "output_type": "stream",
     "text": [
      "\n",
      "\n",
      "\u001b[1m> Entering new ConversationChain chain...\u001b[0m\n",
      "Prompt after formatting:\n",
      "\u001b[32;1m\u001b[1;3mThe following is a friendly conversation between a human and an AI. The AI is talkative and provides lots of specific details from its context. If the AI does not know the answer to a question, it truthfully says it does not know.\n",
      "\n",
      "Current conversation:\n",
      "Human: Generate a produced mini-course containing 3 lessons and an \"upsell\" offer at the end, based on the following information:  In the first episode we will be talking about what cloud computing is, but also what is the most important vocabulary that you should understand when working with cloud in general. It both describes what cloud computing is, but also what are its benefits. Stay tuned! Let's look at the objectives of the first episode. Today we will learn what cloud computing is, but also what are its benefits by learning the most important vocabulary like high availability, scalability, elasticity, agility, fault tolerance and also disaster recovery. Let's start with cloud computing. Cloud computing is a delivery model for services, services like storage services. Because whenever you are storing your unstructured or structured data in files and databases, cloud delivers you dozens of services to do so. You pretty much can choose any technology that is popular in the market and you will be able to use it within your Azure environment. In this case, storage doesn't only mean storing data, but also all the services and tools that allow you to migrate your data to the cloud. Once your data is in the cloud, you will need compute-powered resources like Windows virtual machines, maybe Linux ones, web containers or any of the hundreds of services available in the cloud. Because cloud is about creating applications, whenever those are web, AI, machine learning, anything, any kind of applications out there. Additionally, once you have your components, you need to be able to somehow connect them to each other securely. So cloud delivers you with set functionalities to create secure networking between those components but also your company. And because your entire platform is managed in the cloud, cloud also needs to deliver you with analytic capabilities so you can review your performance and telemetry data for your services so you can perform operations. The list of the services delivered by cloud computing is much longer than this, but those are the four main ones and four that are tested by the exam. All of those services of course are delivered over the internet and this is basically what cloud is. But delivering services like this doesn't make cloud computing yet. Cloud computing needs to also fulfill certain characteristics. The first characteristic that we will learn today is scalability. Imagine you have a resource. Cloud resource can be anything, it can be a web application, it can be a database, it can be a virtual machine. Cloud gives you a way to scale up this virtual machine by increasing its size. Increasing size of the resource basically means adding more power, like CPU, memory or maybe faster storage. In this case, we are moving along the vertical line, that's why this is called vertical scaling and increasing the size of the resource is called scaling up. If you decrease the size, decrease the power of the machine, this is called scaling down. But besides changing the size of your resource, changing the power of that resource, you can also scale by adding more resources to your environment, so increasing the amount of the resources themselves. In this case, we are moving along the horizontal line, that's why this is called horizontal scaling. If you increase the amount of your resources, this is called scaling out. If you decrease the amount of resources, this is called scaling in. So to summarize, scalability is an ability of the system to scale, in this case scaling is a process of adding or removing resources. Remember that in this case resources might both mean the virtual resources like CPU, memory, but also a specific instance of the resources. For our next term, we have elasticity. One of the best ways to explain elasticity is to show the user workload of the typical application during the day, where the user workload changes as the day progresses. If you design a system like this, you need to assign the specific amount of resources to be able to handle the workload. Properly designed system will be able to allocate and deallocate resources whenever needed. If this process is done automatically, we are talking about automatic scaling. And automatic scaling is basically what elasticity is. To summarize, elasticity is the ability of the system to scale dynamically. Our next term is agility. In the cloud there are two ways to provision resources, either manually via portal or in automated ways using APIs and scripting. But regardless of what choice do you make, in both cases, there is a time between the request is submitted and the response that the request has been fulfilled. And the major difference between the cloud and on-premises is that requesting resources in on-premises environment usually takes days, weeks or even months. In cloud, once you request the resource, you will most likely get it within seconds or minutes and for very few, very big services this might take few hours. But still, this is a major difference between the on-premise environments. In this case, when we say agility, we mean the ability to react quickly. And in the cloud, this means being able to allocate and deallocate your resources in very short time. The next term on our list is so-called fault tolerance. As a user, you purchase services from the cloud, whenever that's web application, virtual machine or SQL. But regardless of the service that you choose or the interface that you use that service with, all those services need to run on some sort of servers in a data centers, storing their data on disk arrays. Whenever there's any service or component failures on those servers, you're automatically moved to another. And same goes for disk arrays, your data is automatically stored on multiple disk and multiple disk arrays to ensure no data is lost. Fault tolerance in this case talks about the ability of the system to remain up and running during component and service failures. So those localized failures will not interrupt your service, most of the time in the cloud, all the services have built-in fault tolerance. That means if you use cloud services, you will not notice those localized failures affecting your system at all. Besides those localized failures, an event of much greater scale might happen. An event like this is called disaster. Disaster is a serious disruption of entire service caused by natural or human-induced causes. The scenarios of this level that we talk about are typically like floods, earthquakes, thunderstorms, power grid failures or just human errors, but they can affect entire Azure region or entire Azure service from working properly. In this case, what you need to do is set up disaster recovery. Disaster recovery simply means creating two copies of the same application into Azure regions and then setting up replication between them, so that you have two identical copies of your application. Then in front of those applications, you need to set up a simple DNS routing, so that your users are automatically redirected to the working version of your application. If any service fails, they will automatically get redirected to your replicated version of your application. So disaster recovery is system's ability to recover from event that has taken down entire region or service. So simply said, it's a way for your system to work properly after a disaster. And our last term for today is so-called high availability. Availability is a simple metric that measures how much uptime of the system, so the system being accessible to users or other systems, versus how much downtime this system had. In this case, downtime means planned occurrences like system downtime for patching or unplanned so system failures. And availability is a simple calculation between the uptime and entire lifetime of the system. And depending on what you agree with your client, you calculate availability per year, month or day. Choosing this metric is very important, because 99% availability means only 3 days of downtime per year. If you go for 3 nines, that's only 8 hours, almost 9 hours per year of downtime. But most companies targeting high availability, they go for at least 4 nines, which means 52 minutes per year. With so restrictive uptime requirements, you will need specific tools and specific design in order to achieve high availability. But in this case, to summarize, availability is a measure of system uptime for either users or services. And high availability basically means ability of the system to run for very extended periods of time with very little downtime. Two things that I want to mention here is that one, depending on the criticality of your system, you need to choose whenever this system should be highly available or not. But luckily for us, in Azure, many services deliver very high availability by default. So just check what they offer and decide if this service is right for you. Next steps after watching this episode, go to my website to marchag.io az900 hashtag episode01 and check out the materials that I prepared for you. Actually check out the cheat sheet and practice test to test your knowledge. And that's it for this episode. Thank you guys for watching. If you like what I do, support the channel by subscribing, liking and commenting or sharing this to your friends. If you want to see the next episode, simply follow the playlist or hit the icon on the side and see you there.\n",
      "AI:  Hi Human! It sounds like you want me to create a mini-course containing 3 lessons and an \"upsell\" offer at the end based on cloud computing. Is that correct?\n",
      "Human: What capabilities do students have before they take this mini-course?\n",
      "AI:  Before taking this mini-course, students should understand the basics of cloud computing, including key vocabulary like high availability, scalability, elasticity, agility, fault tolerance, and disaster recovery. They should also be familiar with the services cloud computing offers, such as storage services and compute-powered resources. Additionally, it would be beneficial to know about the processes of scaling vertically and horizontally, as well as the concept of elasticity and agility. Finally, students should have some understanding of fault tolerance and disaster recovery.\n",
      "Human: What capabilities do students have after they take this mini-course?\n",
      "AI:  After taking this mini-course, students should have a better understanding of cloud computing and the services it offers, including storage services and compute-powered resources. They should also know more about the process of scaling vertically and horizontally, as well as elasticity, agility, fault tolerance, and disaster recovery. Additionally, they should be able to recognize the difference between cloud computing and on-premises services, as well as the importance of availability and disaster recovery.\n",
      "Human: Generate a 3 multiple-choice quiz questions on what was covered\n",
      "AI:\u001b[0m\n",
      "\n",
      "\u001b[1m> Finished chain.\u001b[0m\n"
     ]
    },
    {
     "data": {
      "text/plain": [
       "' \\n\\nQuestion 1: Which of the following is a characteristic of cloud computing? \\na. Scalability\\nb. Agility\\nc. Elasticity\\nd. All of the above\\n\\nQuestion 2: What is the main difference between cloud computing and on-premises services?\\na. Cloud computing services are faster to access than on-premises services\\nb. Cloud computing services are more expensive than on-premises services\\nc. Cloud computing services can be accessed remotely, while on-premises services cannot\\nd. Cloud computing services are less secure than on-premises services\\n\\nQuestion 3: What is fault tolerance?\\na. The ability of the system to remain up and running during component and service failures\\nb. The ability of the system to scale dynamically\\nc. The ability of the system to recover from events that have taken down an entire region or service\\nd. The ability of the system to remain available to users or other systems'"
      ]
     },
     "execution_count": 68,
     "metadata": {},
     "output_type": "execute_result"
    }
   ],
   "source": [
    "conversation.predict(input=\"Generate a 3 multiple-choice quiz questions on what was covered\")"
   ]
  },
  {
   "cell_type": "code",
   "execution_count": 76,
   "metadata": {},
   "outputs": [
    {
     "name": "stdout",
     "output_type": "stream",
     "text": [
      "[HumanMessage(content='Generate a produced mini-course containing 3 lessons and an \"upsell\" offer at the end, based on the following information:  In the first episode we will be talking about what cloud computing is, but also what is the most important vocabulary that you should understand when working with cloud in general. It both describes what cloud computing is, but also what are its benefits. Stay tuned! Let\\'s look at the objectives of the first episode. Today we will learn what cloud computing is, but also what are its benefits by learning the most important vocabulary like high availability, scalability, elasticity, agility, fault tolerance and also disaster recovery. Let\\'s start with cloud computing. Cloud computing is a delivery model for services, services like storage services. Because whenever you are storing your unstructured or structured data in files and databases, cloud delivers you dozens of services to do so. You pretty much can choose any technology that is popular in the market and you will be able to use it within your Azure environment. In this case, storage doesn\\'t only mean storing data, but also all the services and tools that allow you to migrate your data to the cloud. Once your data is in the cloud, you will need compute-powered resources like Windows virtual machines, maybe Linux ones, web containers or any of the hundreds of services available in the cloud. Because cloud is about creating applications, whenever those are web, AI, machine learning, anything, any kind of applications out there. Additionally, once you have your components, you need to be able to somehow connect them to each other securely. So cloud delivers you with set functionalities to create secure networking between those components but also your company. And because your entire platform is managed in the cloud, cloud also needs to deliver you with analytic capabilities so you can review your performance and telemetry data for your services so you can perform operations. The list of the services delivered by cloud computing is much longer than this, but those are the four main ones and four that are tested by the exam. All of those services of course are delivered over the internet and this is basically what cloud is. But delivering services like this doesn\\'t make cloud computing yet. Cloud computing needs to also fulfill certain characteristics. The first characteristic that we will learn today is scalability. Imagine you have a resource. Cloud resource can be anything, it can be a web application, it can be a database, it can be a virtual machine. Cloud gives you a way to scale up this virtual machine by increasing its size. Increasing size of the resource basically means adding more power, like CPU, memory or maybe faster storage. In this case, we are moving along the vertical line, that\\'s why this is called vertical scaling and increasing the size of the resource is called scaling up. If you decrease the size, decrease the power of the machine, this is called scaling down. But besides changing the size of your resource, changing the power of that resource, you can also scale by adding more resources to your environment, so increasing the amount of the resources themselves. In this case, we are moving along the horizontal line, that\\'s why this is called horizontal scaling. If you increase the amount of your resources, this is called scaling out. If you decrease the amount of resources, this is called scaling in. So to summarize, scalability is an ability of the system to scale, in this case scaling is a process of adding or removing resources. Remember that in this case resources might both mean the virtual resources like CPU, memory, but also a specific instance of the resources. For our next term, we have elasticity. One of the best ways to explain elasticity is to show the user workload of the typical application during the day, where the user workload changes as the day progresses. If you design a system like this, you need to assign the specific amount of resources to be able to handle the workload. Properly designed system will be able to allocate and deallocate resources whenever needed. If this process is done automatically, we are talking about automatic scaling. And automatic scaling is basically what elasticity is. To summarize, elasticity is the ability of the system to scale dynamically. Our next term is agility. In the cloud there are two ways to provision resources, either manually via portal or in automated ways using APIs and scripting. But regardless of what choice do you make, in both cases, there is a time between the request is submitted and the response that the request has been fulfilled. And the major difference between the cloud and on-premises is that requesting resources in on-premises environment usually takes days, weeks or even months. In cloud, once you request the resource, you will most likely get it within seconds or minutes and for very few, very big services this might take few hours. But still, this is a major difference between the on-premise environments. In this case, when we say agility, we mean the ability to react quickly. And in the cloud, this means being able to allocate and deallocate your resources in very short time. The next term on our list is so-called fault tolerance. As a user, you purchase services from the cloud, whenever that\\'s web application, virtual machine or SQL. But regardless of the service that you choose or the interface that you use that service with, all those services need to run on some sort of servers in a data centers, storing their data on disk arrays. Whenever there\\'s any service or component failures on those servers, you\\'re automatically moved to another. And same goes for disk arrays, your data is automatically stored on multiple disk and multiple disk arrays to ensure no data is lost. Fault tolerance in this case talks about the ability of the system to remain up and running during component and service failures. So those localized failures will not interrupt your service, most of the time in the cloud, all the services have built-in fault tolerance. That means if you use cloud services, you will not notice those localized failures affecting your system at all. Besides those localized failures, an event of much greater scale might happen. An event like this is called disaster. Disaster is a serious disruption of entire service caused by natural or human-induced causes. The scenarios of this level that we talk about are typically like floods, earthquakes, thunderstorms, power grid failures or just human errors, but they can affect entire Azure region or entire Azure service from working properly. In this case, what you need to do is set up disaster recovery. Disaster recovery simply means creating two copies of the same application into Azure regions and then setting up replication between them, so that you have two identical copies of your application. Then in front of those applications, you need to set up a simple DNS routing, so that your users are automatically redirected to the working version of your application. If any service fails, they will automatically get redirected to your replicated version of your application. So disaster recovery is system\\'s ability to recover from event that has taken down entire region or service. So simply said, it\\'s a way for your system to work properly after a disaster. And our last term for today is so-called high availability. Availability is a simple metric that measures how much uptime of the system, so the system being accessible to users or other systems, versus how much downtime this system had. In this case, downtime means planned occurrences like system downtime for patching or unplanned so system failures. And availability is a simple calculation between the uptime and entire lifetime of the system. And depending on what you agree with your client, you calculate availability per year, month or day. Choosing this metric is very important, because 99% availability means only 3 days of downtime per year. If you go for 3 nines, that\\'s only 8 hours, almost 9 hours per year of downtime. But most companies targeting high availability, they go for at least 4 nines, which means 52 minutes per year. With so restrictive uptime requirements, you will need specific tools and specific design in order to achieve high availability. But in this case, to summarize, availability is a measure of system uptime for either users or services. And high availability basically means ability of the system to run for very extended periods of time with very little downtime. Two things that I want to mention here is that one, depending on the criticality of your system, you need to choose whenever this system should be highly available or not. But luckily for us, in Azure, many services deliver very high availability by default. So just check what they offer and decide if this service is right for you. Next steps after watching this episode, go to my website to marchag.io az900 hashtag episode01 and check out the materials that I prepared for you. Actually check out the cheat sheet and practice test to test your knowledge. And that\\'s it for this episode. Thank you guys for watching. If you like what I do, support the channel by subscribing, liking and commenting or sharing this to your friends. If you want to see the next episode, simply follow the playlist or hit the icon on the side and see you there.', additional_kwargs={}), AIMessage(content=' Hi Human! It sounds like you want me to create a mini-course containing 3 lessons and an \"upsell\" offer at the end based on cloud computing. Is that correct?', additional_kwargs={}), HumanMessage(content='What capabilities do students have before they take this mini-course?', additional_kwargs={}), AIMessage(content=' Before taking this mini-course, students should understand the basics of cloud computing, including key vocabulary like high availability, scalability, elasticity, agility, fault tolerance, and disaster recovery. They should also be familiar with the services cloud computing offers, such as storage services and compute-powered resources. Additionally, it would be beneficial to know about the processes of scaling vertically and horizontally, as well as the concept of elasticity and agility. Finally, students should have some understanding of fault tolerance and disaster recovery.', additional_kwargs={}), HumanMessage(content='What capabilities do students have after they take this mini-course?', additional_kwargs={}), AIMessage(content=' After taking this mini-course, students should have a better understanding of cloud computing and the services it offers, including storage services and compute-powered resources. They should also know more about the process of scaling vertically and horizontally, as well as elasticity, agility, fault tolerance, and disaster recovery. Additionally, they should be able to recognize the difference between cloud computing and on-premises services, as well as the importance of availability and disaster recovery.', additional_kwargs={}), HumanMessage(content='Generate a 3 multiple-choice quiz questions on what was covered', additional_kwargs={}), AIMessage(content=' \\n\\nQuestion 1: Which of the following is a characteristic of cloud computing? \\na. Scalability\\nb. Agility\\nc. Elasticity\\nd. All of the above\\n\\nQuestion 2: What is the main difference between cloud computing and on-premises services?\\na. Cloud computing services are faster to access than on-premises services\\nb. Cloud computing services are more expensive than on-premises services\\nc. Cloud computing services can be accessed remotely, while on-premises services cannot\\nd. Cloud computing services are less secure than on-premises services\\n\\nQuestion 3: What is fault tolerance?\\na. The ability of the system to remain up and running during component and service failures\\nb. The ability of the system to scale dynamically\\nc. The ability of the system to recover from events that have taken down an entire region or service\\nd. The ability of the system to remain available to users or other systems', additional_kwargs={})]\n"
     ]
    }
   ],
   "source": [
    "print(conversation.memory.buffer)"
   ]
  },
  {
   "attachments": {},
   "cell_type": "markdown",
   "metadata": {},
   "source": [
    "# Text to Speech"
   ]
  },
  {
   "cell_type": "code",
   "execution_count": null,
   "metadata": {},
   "outputs": [],
   "source": [
    "!pip install git+https://github.com/huggingface/transformers sentencepiece datasets"
   ]
  },
  {
   "cell_type": "code",
   "execution_count": null,
   "metadata": {},
   "outputs": [],
   "source": [
    "!pip install soundfile"
   ]
  },
  {
   "cell_type": "code",
   "execution_count": 77,
   "metadata": {},
   "outputs": [
    {
     "name": "stderr",
     "output_type": "stream",
     "text": [
      "Found cached dataset cmu-arctic-xvectors (C:/Users/m1000/.cache/huggingface/datasets/Matthijs___cmu-arctic-xvectors/default/0.0.1/a62fea1f9415e240301ea0042ffad2a3aadf4d1caa7f9a8d9512d631723e781f)\n"
     ]
    }
   ],
   "source": [
    "from transformers import SpeechT5Processor, SpeechT5ForTextToSpeech, SpeechT5HifiGan\n",
    "from datasets import load_dataset\n",
    "import torch\n",
    "import soundfile as sf\n",
    "from datasets import load_dataset\n",
    "\n",
    "processor = SpeechT5Processor.from_pretrained(\"microsoft/speecht5_tts\")\n",
    "model = SpeechT5ForTextToSpeech.from_pretrained(\"microsoft/speecht5_tts\")\n",
    "vocoder = SpeechT5HifiGan.from_pretrained(\"microsoft/speecht5_hifigan\")\n",
    "my_text = 'After taking this mini-course, students should have a better understanding of cloud computing and the services it offers, including storage services and compute-powered resources. They should also know more about the process of scaling vertically and horizontally, as well as elasticity, agility, fault tolerance, and disaster recovery. Additionally, they should be able to recognize the difference between cloud computing and on-premises services, as well as the importance of availability and disaster recovery.'\n",
    "inputs = processor(text=my_text, return_tensors=\"pt\")\n",
    "\n",
    "# load xvector containing speaker's voice characteristics from a dataset\n",
    "embeddings_dataset = load_dataset(\"Matthijs/cmu-arctic-xvectors\", split=\"validation\")\n",
    "speaker_embeddings = torch.tensor(embeddings_dataset[7306][\"xvector\"]).unsqueeze(0)\n",
    "\n",
    "speech = model.generate_speech(inputs[\"input_ids\"], speaker_embeddings, vocoder=vocoder)\n",
    "\n",
    "sf.write(\"speech.wav\", speech.numpy(), samplerate=16000)"
   ]
  }
 ],
 "metadata": {
  "kernelspec": {
   "display_name": "gpu2",
   "language": "python",
   "name": "python3"
  },
  "language_info": {
   "codemirror_mode": {
    "name": "ipython",
    "version": 3
   },
   "file_extension": ".py",
   "mimetype": "text/x-python",
   "name": "python",
   "nbconvert_exporter": "python",
   "pygments_lexer": "ipython3",
   "version": "3.9.16"
  },
  "orig_nbformat": 4
 },
 "nbformat": 4,
 "nbformat_minor": 2
}
